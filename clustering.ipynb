{
 "cells": [
  {
   "cell_type": "code",
   "execution_count": 1,
   "metadata": {},
   "outputs": [],
   "source": [
    "import numpy as np\n",
    "import scipy as sp\n",
    "import matplotlib.pyplot as plt\n",
    "from matplotlib.colors import ListedColormap\n",
    "import seaborn as sns\n",
    "import pandas as pd\n",
    "import scanpy as sc\n",
    "import anndata as ad\n",
    "from sklearn.cluster import AgglomerativeClustering, KMeans\n",
    "from sklearn.metrics import adjusted_rand_score\n",
    "import community\n",
    "import networkx as nx\n",
    "import gzip\n",
    "from scipy.sparse import csc_matrix, csr_matrix\n",
    "%matplotlib inline\n",
    "\n",
    "from utils.io import create_AnnData_from_gem\n",
    "from utils.routines import delete_module\n",
    "import utils.io as io\n",
    "\n",
    "from sklearn.cluster import KMeans"
   ]
  },
  {
   "cell_type": "code",
   "execution_count": 2,
   "metadata": {},
   "outputs": [],
   "source": [
    "andata_binned_50_C5 = io.create_binned_anndata_from_gem('/goofys/Samples/batch_effects_removal_dataset/raw/mouse_embryo_bin1/SS200001209TR_C5.tissue.gem.gz', 50)\n",
    "andata_binned_50_C6 = io.create_binned_anndata_from_gem('/goofys/Samples/batch_effects_removal_dataset/raw/mouse_embryo_bin1/SS200001209TR_C6.tissue.gem.gz', 50)\n",
    "andata_binned_50_E4 = io.create_binned_anndata_from_gem('/goofys/Samples/batch_effects_removal_dataset/raw/mouse_embryo_bin1/SS200000842BL_E4.tissue.gem.gz', 50)"
   ]
  },
  {
   "cell_type": "code",
   "execution_count": null,
   "metadata": {},
   "outputs": [],
   "source": [
    "adatas = [andata_binned_50_C5, andata_binned_50_C6, andata_binned_50_E4]"
   ]
  },
  {
   "cell_type": "code",
   "execution_count": null,
   "metadata": {},
   "outputs": [],
   "source": [
    "def merde_datasets(adatas): #list of anndatas\n",
    "    genes = [adata.var_names.values for adata in adatas]\n",
    "    datasets =  [adata.X for adata in adatas]\n",
    "\n",
    "    keep_genes = set()\n",
    "    for idx, gene_list in enumerate(genes):\n",
    "        keep_genes |= set(gene_list)\n",
    "\n",
    "    \n",
    "    union_genes = sorted(keep_genes)\n",
    "    for i in range(len(datasets)):\n",
    "        X_new = np.zeros((datasets[i].shape[0], len(union_genes)))\n",
    "        X_old = csc_matrix(datasets[i])\n",
    "        gene_to_idx = { gene: idx for idx, gene in enumerate(genes[i]) }\n",
    "        for j, gene in enumerate(union_genes):\n",
    "            if gene in gene_to_idx:\n",
    "                X_new[:, j] = X_old[:, gene_to_idx[gene]].toarray().flatten()\n",
    "        datasets[i] = csr_matrix(X_new) #to mi treba\n",
    "\n",
    "    ret_genes = np.array(union_genes)\n",
    "\n",
    "    new_adatas = []\n",
    "    for i in range(len((adatas))): #3\n",
    "        adata = ad.AnnData(datasets[i])\n",
    "        adata.obs = adatas[i].obs #ovo ce mi trebati da bih imala koordinate\n",
    "        \n",
    "        new_adatas.append(adata)\n",
    "\n",
    "    andata_merged = sc.concat(new_adatas,label=\"sample_label\") #ovo automatski dodeljuje labelu batchu\n",
    "\n",
    "    return andata_merged"
   ]
  },
  {
   "cell_type": "code",
   "execution_count": null,
   "metadata": {},
   "outputs": [],
   "source": [
    "def merging_and_clustering(adata_list): #merging, preprocessing, clustering and visualization\n",
    "    \n",
    "    #merging\n",
    "    andata_merged=merde_datasets(adata_list)\n",
    "    andata_merged_copy = andata_merged.copy()\n",
    "    \n",
    "    #Normalize\n",
    "    sc.pp.normalize_total(andata_merged_copy, target_sum=1e4)\n",
    "    sc.pp.log1p(andata_merged_copy)\n",
    "    sc.pp.highly_variable_genes(andata_merged_copy,n_top_genes=andata_merged_copy.shape[1],subset=True) #selektuje sve gene (kao da nemam to uopste)\n",
    "    sc.pp.scale(andata_merged_copy, max_value=10)\n",
    "    \n",
    "    #dim reduction\n",
    "    sc.tl.pca(andata_merged_copy,n_comps=100)\n",
    "\n",
    "    #clustering - leiden\n",
    "    sc.pp.neighbors(andata_merged_copy,random_state=0, use_rep=\"X_pca\")\n",
    "    sc.tl.leiden(andata_merged_copy, resolution=1, key_added=\"leiden\")\n",
    "\n",
    "    sc.tl.umap(andata_merged_copy) #visualization\n",
    "    sc.pl.umap(andata_merged_copy, color=['leiden'], size=5)\n",
    "    sc.tl.dendrogram(andata_merged_copy, groupby = \"leiden\")\n",
    "    sc.pl.dendrogram(andata_merged_copy, groupby = \"leiden\")\n",
    "\n",
    "    #kmeans\n",
    "    #extract pca coordinates\n",
    "    X_pca = andata_merged_copy.obsm['X_pca'] \n",
    "\n",
    "    # kmeans with k=38\n",
    "    kmeans = KMeans(n_clusters=38, random_state=0).fit(X_pca) \n",
    "    andata_merged_copy.obs['kmeans'] = kmeans.labels_.astype(str)\n",
    "    \n",
    "    sc.pl.umap(andata_merged_copy, color=['kmeans'], size=5)\n",
    "    sc.tl.dendrogram(andata_merged_copy, groupby = \"kmeans\")\n",
    "    sc.pl.dendrogram(andata_merged_copy, groupby = \"kmeans\")\n",
    "\n",
    "    #scatial coordinates\n",
    "    for i in range(len(adata_list)):\n",
    "        dataset = andata_merged_copy.obs[andata_merged_copy.obs['sample_label']==str(i)]\n",
    "        plt.figure()\n",
    "        plt.scatter(dataset['y'].values,-dataset['x'].values, c=dataset['leiden'].values.astype('int64'), cmap='jet', s=2)\n",
    "        plt.title('Leiden clustering of sample' + str(i))\n",
    "        plt.figure()\n",
    "        plt.scatter(dataset['y'].values,-dataset['x'].values, c=dataset['kmeans'].values.astype('int64'), cmap='jet', s=2)\n",
    "        plt.title('Kmeans clustering of sample' + str(i))\n",
    "\n",
    "\n",
    "    return andata_merged_copy"
   ]
  },
  {
   "cell_type": "code",
   "execution_count": null,
   "metadata": {},
   "outputs": [],
   "source": [
    "adata = merging_and_clustering(adatas)"
   ]
  }
 ],
 "metadata": {
  "kernelspec": {
   "display_name": "Python 3",
   "language": "python",
   "name": "python3"
  },
  "language_info": {
   "codemirror_mode": {
    "name": "ipython",
    "version": 3
   },
   "file_extension": ".py",
   "mimetype": "text/x-python",
   "name": "python",
   "nbconvert_exporter": "python",
   "pygments_lexer": "ipython3",
   "version": "3.10.6"
  },
  "orig_nbformat": 4
 },
 "nbformat": 4,
 "nbformat_minor": 2
}
